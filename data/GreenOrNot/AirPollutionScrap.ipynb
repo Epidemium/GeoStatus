{
 "cells": [
  {
   "cell_type": "code",
   "execution_count": null,
   "id": "b2ae7f43",
   "metadata": {},
   "outputs": [],
   "source": [
    "from selenium import webdriver\n",
    "\n",
    "from selenium.webdriver.chrome.options import Options\n",
    "chrome_options = Options()\n",
    "chrome_options.add_argument(\"--disable-extensions\")\n",
    "chrome_options.add_argument(\"download.default_directory=goodies\")\n",
    "chrome_options.add_argument(\"--headless\")\n",
    "driver = webdriver.Chrome(options=chrome_options)\n",
    "from selenium.webdriver.support.ui import Select\n",
    "from selenium.webdriver.common.keys import Keys\n",
    "\n",
    "import time\n",
    "import datetime\n",
    "\n",
    "import numpy as np\n"
   ]
  },
  {
   "cell_type": "code",
   "execution_count": null,
   "id": "11e008d5",
   "metadata": {},
   "outputs": [],
   "source": [
    "#Get URL\n",
    "url='https://www.geodair.fr/donnees/consultation'\n",
    "\n",
    "driver.get(url)\n",
    "#time.sleep(1)"
   ]
  },
  {
   "cell_type": "code",
   "execution_count": null,
   "id": "ac8b9405",
   "metadata": {},
   "outputs": [],
   "source": [
    "years=np.arange(2013,2022,1)\n",
    "months=['JANV','FÉVR','MARS','AVR','MAI','JUIN','JUIL','AOÛT','SEPT','OCT','NOV','DÉC']\n",
    "days=np.arange(1,31,1)\n",
    "#select dayly mean\n",
    "ddelement= driver.find_element_by_id('mat-select-2').click()\n",
    "driver.find_element_by_xpath(\"//div[@id='mat-select-2-panel']/mat-option[2]\").click()\n",
    "time.sleep(1)\n",
    "for year in years:\n",
    "    time.sleep(1)\n",
    "    styear=str(year)\n",
    "    for month in months:\n",
    "        for day in days:\n",
    "                ddelement= driver.find_element_by_id('mat-select-2').click()\n",
    "                driver.find_element_by_xpath(\"//div[@id='mat-select-2-panel']/mat-option[2]\").click()\n",
    "                driver.execute_script('el = document.elementFromPoint(1, 1); el.click();')\n",
    "\n",
    "                #print('step 1')\n",
    "                \n",
    "                try:\n",
    "                    driver.find_element_by_xpath(\"//button[@class='mat-focus-indicator mat-icon-button mat-button-base']\").click()\n",
    "                except:\n",
    "                    driver.find_element_by_xpath(\"//button[@class='mat-focus-indicator.mat-icon-button-base.cdk-focused.cdk-program-focused']\").click()\n",
    "                time.sleep(0.5)\n",
    "                #print('step 2')\n",
    "                driver.find_element_by_xpath(\"//span[@id='mat-calendar-button-0']\").click()\n",
    "                #print('step 3')\n",
    "                time.sleep(2)\n",
    "                #year\n",
    "                ytext=('//*[contains(text(), \\''+styear+'\\')]')\n",
    "                #print('step 4')\n",
    "                driver.find_element_by_xpath(ytext).click()\n",
    "                time.sleep(1)\n",
    "                #month\n",
    "                ymonth='//*[contains(text(), \\''+month+'\\')]'\n",
    "                driver.find_element_by_xpath(ymonth).click()\n",
    "                time.sleep(1)\n",
    "                #day\n",
    "                stday=str(day)\n",
    "                yday='//td[contains(.,  \\''+stday+'\\')]'\n",
    "                \n",
    "                try:\n",
    "                    dbut=driver.find_element_by_xpath(yday)\n",
    "                    dbut.click()\n",
    "                    time.sleep(2)\n",
    "                \n",
    "                    driver.find_element_by_xpath(\"//div[@class='download-container col-xs-12 col-sm-4 col-lg-3 ng-star-inserted']/button/span\").click()\n",
    "                    time.sleep(10)\n",
    "                    print(url,styear,month,stday)\n",
    "                    driver.refresh()\n",
    "                    time.sleep(2)\n",
    "                except:\n",
    "                    driver.refresh()\n",
    "                    time.sleep(2)\n"
   ]
  }
 ],
 "metadata": {
  "kernelspec": {
   "display_name": "Python 3",
   "language": "python",
   "name": "python3"
  },
  "language_info": {
   "codemirror_mode": {
    "name": "ipython",
    "version": 3
   },
   "file_extension": ".py",
   "mimetype": "text/x-python",
   "name": "python",
   "nbconvert_exporter": "python",
   "pygments_lexer": "ipython3",
   "version": "3.8.5"
  }
 },
 "nbformat": 4,
 "nbformat_minor": 5
}
